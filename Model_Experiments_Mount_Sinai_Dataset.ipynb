{
  "nbformat": 4,
  "nbformat_minor": 0,
  "metadata": {
    "colab": {
      "name": "Model Experiments - Mount Sinai Dataset.ipynb",
      "provenance": [],
      "collapsed_sections": [],
      "authorship_tag": "ABX9TyOEAZmmaf1l1CM9J9412Cl6",
      "include_colab_link": true
    },
    "kernelspec": {
      "name": "python3",
      "display_name": "Python 3"
    },
    "accelerator": "GPU"
  },
  "cells": [
    {
      "cell_type": "markdown",
      "metadata": {
        "id": "view-in-github",
        "colab_type": "text"
      },
      "source": [
        "<a href=\"https://colab.research.google.com/github/jfrank94/SParCS/blob/master/Model_Experiments_Mount_Sinai_Dataset.ipynb\" target=\"_parent\"><img src=\"https://colab.research.google.com/assets/colab-badge.svg\" alt=\"Open In Colab\"/></a>"
      ]
    },
    {
      "cell_type": "code",
      "metadata": {
        "id": "g2l0aqtrnRu4",
        "colab_type": "code",
        "colab": {}
      },
      "source": [
        "from google.colab import drive # import drive from google colab\n",
        "\n",
        "ROOT = \"/content/drive\"     # default location for the drive\n",
        "print(ROOT)                 # print content of ROOT (Optional)\n",
        "\n",
        "drive.mount(ROOT)           # we mount the google drive at /content/drive"
      ],
      "execution_count": 0,
      "outputs": []
    },
    {
      "cell_type": "code",
      "metadata": {
        "id": "8ZAQ3WErncii",
        "colab_type": "code",
        "outputId": "368dc15a-c8a2-4c74-ca22-108be690e0df",
        "colab": {
          "base_uri": "https://localhost:8080/",
          "height": 34
        }
      },
      "source": [
        "cd /content/drive/My Drive/MyDrive/SParCS Project/"
      ],
      "execution_count": 2,
      "outputs": [
        {
          "output_type": "stream",
          "text": [
            "/content/drive/My Drive/MyDrive/SParCS Project\n"
          ],
          "name": "stdout"
        }
      ]
    },
    {
      "cell_type": "code",
      "metadata": {
        "id": "-QvEm7wOnlUT",
        "colab_type": "code",
        "colab": {}
      },
      "source": [
        "import pandas as pd \n",
        "import numpy as np \n",
        "from matplotlib import pyplot as plt \n",
        "import seaborn as sns"
      ],
      "execution_count": 0,
      "outputs": []
    },
    {
      "cell_type": "code",
      "metadata": {
        "id": "2I-Qkqe3nl5N",
        "colab_type": "code",
        "colab": {}
      },
      "source": [
        "import os\n",
        "path_to_data = 'MSSM_COVID_FINAL/'\n",
        "files = []\n",
        "for file in os.listdir(path_to_data):\n",
        "  if file.endswith('.txt'):\n",
        "    files.append(file)\n",
        "\n",
        "patient_df = pd.read_csv(path_to_data + files[0], sep=\"\\t\", \n",
        "                        error_bad_lines=False, encoding='latin1')"
      ],
      "execution_count": 0,
      "outputs": []
    },
    {
      "cell_type": "code",
      "metadata": {
        "id": "lxoGHN4vwCfd",
        "colab_type": "code",
        "outputId": "b1d61b02-e4cf-4c9d-dfff-ddc584f18050",
        "colab": {
          "base_uri": "https://localhost:8080/",
          "height": 34
        }
      },
      "source": [
        "\"There are {} features in the patient dataset.\".format(patient_df.shape[1])"
      ],
      "execution_count": 6,
      "outputs": [
        {
          "output_type": "execute_result",
          "data": {
            "text/plain": [
              "'There are 73 features in the patient dataset.'"
            ]
          },
          "metadata": {
            "tags": []
          },
          "execution_count": 6
        }
      ]
    },
    {
      "cell_type": "code",
      "metadata": {
        "id": "KrqNpKqrw9Zf",
        "colab_type": "code",
        "colab": {}
      },
      "source": [
        "patient_df = patient_df.fillna(0)"
      ],
      "execution_count": 0,
      "outputs": []
    },
    {
      "cell_type": "code",
      "metadata": {
        "id": "xIhthG6A5_7m",
        "colab_type": "code",
        "colab": {}
      },
      "source": [
        "patient_df_modified = patient_df.drop(columns=['ZIPCODE', 'MASKED_MRN', 'MASKED_ENCOUNTER_EPIC_CSN', 'FACILITY', 'ENC_ACUITY',\n",
        "                                               'TOCILIZUMAB', 'DATE_OF_FIRST_TOCILIZUMAB', 'DECEASED_INDICATOR', 'TOCILIZUMAB',\n",
        "                                                'DATE_OF_FIRST_TOCILIZUMAB', 'REMDESIVIR', 'DATE_OF_FIRST_REMDESIVIR',\n",
        "                                               'SARILUMAB', 'DATE_OF_FIRST_SARILUMAB', 'HYDROXYCHLOROQUINE',\n",
        "                                                'DATE_OF_FIRST_HYDROXYCHLOROQUINE', 'ANAKINRA',\n",
        "                                                'DATE_OF_FIRST_ANAKINRA', 'AZITHROMYCIN', 'DATE_OF_FIRST_AZITHROMYCIN', 'ADMITTED', 'ICU'])\n"
      ],
      "execution_count": 0,
      "outputs": []
    },
    {
      "cell_type": "code",
      "metadata": {
        "id": "PwDN99s2sOSs",
        "colab_type": "code",
        "outputId": "5e8c04e6-03ff-474e-a1e1-770ec95d3ba7",
        "colab": {
          "base_uri": "https://localhost:8080/",
          "height": 34
        }
      },
      "source": [
        "#modifying the object values into categorical data \n",
        "cols_str = []\n",
        "for col in patient_df_modified.columns: \n",
        "  if patient_df_modified[col].dtype == object or patient_df_modified[col].dtype == bool:\n",
        "    cols_str.append(col)\n",
        "  #print(patient_df_modified[col].dtype == bool)\n",
        "\n",
        "for col in cols_str: \n",
        "  patient_df_modified[col] = pd.Categorical(patient_df_modified[col]).codes\n",
        "print(cols_str)"
      ],
      "execution_count": 9,
      "outputs": [
        {
          "output_type": "stream",
          "text": [
            "['SEX', 'COVID_POS', 'CANCER_DIAGNOSIS_DESCRIPTION', 'RACE_SIMPLE', 'SMOKING_SIMPLE', 'COPD_ASTHMA']\n"
          ],
          "name": "stdout"
        }
      ]
    },
    {
      "cell_type": "code",
      "metadata": {
        "id": "23x5lpQx06CC",
        "colab_type": "code",
        "colab": {}
      },
      "source": [
        "target = patient_df_modified['COVID_POS']"
      ],
      "execution_count": 0,
      "outputs": []
    },
    {
      "cell_type": "code",
      "metadata": {
        "id": "1z01OJZLC-GQ",
        "colab_type": "code",
        "colab": {}
      },
      "source": [
        "!pip install eli5"
      ],
      "execution_count": 0,
      "outputs": []
    },
    {
      "cell_type": "code",
      "metadata": {
        "id": "520G__Pm_Ryt",
        "colab_type": "code",
        "colab": {}
      },
      "source": [
        "from sklearn.preprocessing import MinMaxScaler\n",
        "from sklearn.ensemble import RandomForestClassifier\n",
        "from sklearn.pipeline import Pipeline\n",
        "from sklearn.model_selection import RandomizedSearchCV, train_test_split\n",
        "from sklearn.metrics import accuracy_score, confusion_matrix\n",
        "from  sklearn.base import BaseEstimator\n",
        "\n",
        "import eli5\n",
        "from eli5.sklearn import PermutationImportance\n",
        "from IPython.core.display import display, HTML\n",
        "\n",
        "from xgboost import XGBClassifier\n",
        "from scipy import sparse\n",
        "\n",
        "import seaborn as sns\n",
        "from matplotlib import pyplot as plt\n",
        "\n",
        "%matplotlib inline\n",
        "\n",
        "class TrainClassifier(BaseEstimator):\n",
        "    \n",
        "    def __init__(self, classifier=XGBClassifier(tree_hist='gpu_hist')):\n",
        "        self.classifier = classifier \n",
        "\n",
        "    \n",
        "    def fit(self, X, y=None, **kwargs): \n",
        "        self.classifier.fit(X, y)\n",
        "        return self \n",
        "\n",
        "    #1st method of feature extraction \n",
        "    def permutationImportances(self, model, dataset, X, y=None, display=False):\n",
        "      model = model.fit(X, y)\n",
        "      perm = PermutationImportance(model, random_state=42).fit(X, y)\n",
        "      perm_df = eli5.format_as_dataframe(eli5.explain_weights(perm, feature_names=X.columns.tolist()))\n",
        "      if display: \n",
        "        display(eli5.show_weights(perm, feature_names=X.columns.tolist(), top=50))\n",
        "      perm_df_filtered = perm_df[perm_df['weight'] >= 0]\n",
        "      dataset_filtered = dataset[list(perm_df_filtered['feature'])]\n",
        "      return dataset_filtered\n",
        "\n",
        "    #2nd method of feature extraction \n",
        "    def bioMarkerFilter(self, dataset):\n",
        "      biomarkers = ['SMOKING_SIMPLE', 'COPD_ASTHMA', 'DIABETES', 'CHRONIC_KIDNEY_DISEASE', 'HIV_FLAG',\n",
        "              'CANCER_FLAG', 'BMI', 'HTN', 'TEMPERATURE', 'HTN', 'HEART_RATE', 'RESPIRATORY_RATE',\n",
        "              'SYSTOLIC_BP', 'DIASTOLIC_BP', 'O2_SAT']\n",
        "      biomarkers = biomarkers + [col for col in dataset.columns if col.endswith('_INITIAL')]\n",
        "      dataset_modified_biomarkers = dataset[biomarkers]\n",
        "      return dataset_modified_biomarkers \n",
        "      \n",
        "    def predict(self, X, y=None):\n",
        "        self.classifier.predict(X)\n",
        "\n",
        "    def score(self, X, y=None):\n",
        "        testing_predictions = self.classifier.predict(X)\n",
        "        predictions = [round(value) for value in testing_predictions]\n",
        "        accuracy = accuracy_score(y_important_test, predictions)\n",
        "        return (\"Accuracy: %.2f%%\" % (accuracy * 100.0))\n",
        "    \n",
        "    def displayPredictionMatrix(self, X_test, y_test):\n",
        "      unique_labels = [0, 1]\n",
        "      testing_predictions = self.classifier.predict(X_test)\n",
        "      seed = np.random.seed(0)\n",
        "      matrix = confusion_matrix(y_test, testing_predictions, labels=unique_labels)\n",
        "      sns.heatmap(matrix, annot=True, xticklabels=unique_labels, yticklabels=unique_labels)\n",
        "      plt.ylabel('Actual/True Label')\n",
        "      plt.xlabel('Predicted Label')\n",
        "      plt.title('Confusion Matrix for Predicted Labeling')"
      ],
      "execution_count": 0,
      "outputs": []
    },
    {
      "cell_type": "code",
      "metadata": {
        "id": "gxUhQj8tC2OQ",
        "colab_type": "code",
        "colab": {}
      },
      "source": [
        "import pickle\n",
        "\n",
        "patient_df_modified_features = patient_df_modified.columns\n",
        "patient_df_modified_features = [feature for feature in patient_df_modified_features if feature != \"COVID_POS\"]\n",
        "target = patient_df_modified['COVID_POS']\n",
        "\n",
        "X_train, X_test, y_train, y_test = train_test_split(patient_df_modified[patient_df_modified_features], \n",
        "                                                        target, test_size=0.3, random_state=np.random.seed(0))\n",
        "    \n",
        "pipe = Pipeline([('preprocessing', MinMaxScaler()),  \n",
        "                 ('classifier', RandomForestClassifier())])\n",
        "               \n",
        "params =  {'classifier': [RandomForestClassifier()], \n",
        "         'preprocessing': [MinMaxScaler(feature_range=(0, 1))],\n",
        "         'classifier__max_features': ['auto', 'sqrt'],\n",
        "         'classifier__min_samples_split': [2, 5, 10],\n",
        "         'classifier__min_samples_leaf': [1, 2, 4],\n",
        "         'classifier__n_estimators': [int(x) for x in np.linspace(start=200, stop=300, num=10)], \n",
        "         'classifier__max_depth': [int(x) for x in np.linspace(start=10, stop=50, num=10)],\n",
        "         'classifier__bootstrap': [True, False]}\n",
        "\n",
        "rscv = RandomizedSearchCV(pipe, params, n_iter=100, verbose=2, cv=5, random_state=np.random.seed(0), n_jobs=-1)\n",
        "rscv.fit(X_train, y_train)\n",
        "random_forest_best = rscv.best_params_['classifier']\n",
        "filename = 'random_forest_best.sav'\n",
        "rfcb_saved = pickle.dump(random_forest_best, open(filename, 'wb'))\n",
        "rfcb_loaded = pickle.load(open(filename, 'rb'))\n",
        "rfcb_model = rfcb_loaded.fit(X_train, y_train)"
      ],
      "execution_count": 0,
      "outputs": []
    },
    {
      "cell_type": "code",
      "metadata": {
        "id": "Nm83DiuV1Sxk",
        "colab_type": "code",
        "colab": {
          "base_uri": "https://localhost:8080/",
          "height": 34
        },
        "outputId": "6be4da9e-1b85-4edf-923b-f37f34ebe6ac"
      },
      "source": [
        "tr = TrainClassifier()\n",
        "permutation_dataset = tr.permutationImportances(rfcb_model, patient_df_modified, X_test, y_test)\n",
        "\n",
        "X_important_train, X_important_test, y_important_train, y_important_test = train_test_split(permutation_dataset, \n",
        "                                                                                            target, test_size=0.3, random_state=42)\n",
        "tr.fit(X_important_train, y_important_train)\n",
        "tr.score(X_important_test)"
      ],
      "execution_count": 53,
      "outputs": [
        {
          "output_type": "execute_result",
          "data": {
            "text/plain": [
              "'Accuracy: 52.78%'"
            ]
          },
          "metadata": {
            "tags": []
          },
          "execution_count": 53
        }
      ]
    },
    {
      "cell_type": "code",
      "metadata": {
        "id": "nWnXF_-eIk6-",
        "colab_type": "code",
        "colab": {
          "base_uri": "https://localhost:8080/",
          "height": 893
        },
        "outputId": "6cd0e717-4d53-4be4-b5e5-442c502923ea"
      },
      "source": [
        "plt.figure(figsize=(15, 15))\n",
        "tr.displayPredictionMatrix(X_important_test, y_important_test)"
      ],
      "execution_count": 54,
      "outputs": [
        {
          "output_type": "display_data",
          "data": {
            "image/png": "[encoded data removed]",
            "text/plain": [
              "<Figure size 1080x1080 with 2 Axes>"
            ]
          },
          "metadata": {
            "tags": [],
            "needs_background": "light"
          }
        }
      ]
    },
    {
      "cell_type": "code",
      "metadata": {
        "id": "w0FA4e2j2EcU",
        "colab_type": "code",
        "colab": {
          "base_uri": "https://localhost:8080/",
          "height": 34
        },
        "outputId": "c0026367-b49a-4524-844f-f879e79cf9ee"
      },
      "source": [
        "biomarker_dataset = tr.bioMarkerFilter(patient_df_modified)\n",
        "\n",
        "X_train, X_test, y_train, y_test = train_test_split(patient_df_modified[patient_df_modified_features], \n",
        "                                                        target, test_size=0.3, random_state=np.random.seed(0))\n",
        "\n",
        "tr.fit(X_train, y_train)\n",
        "tr.score(X_test)"
      ],
      "execution_count": 31,
      "outputs": [
        {
          "output_type": "execute_result",
          "data": {
            "text/plain": [
              "'Accuracy: 52.70%'"
            ]
          },
          "metadata": {
            "tags": []
          },
          "execution_count": 31
        }
      ]
    }
  ]
}